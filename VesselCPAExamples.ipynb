{
 "cells": [
  {
   "cell_type": "code",
   "execution_count": 1,
   "metadata": {},
   "outputs": [],
   "source": [
    "import Vessel\n",
    "import matplotlib.pyplot as plt"
   ]
  },
  {
   "cell_type": "markdown",
   "metadata": {},
   "source": [
    "First lets define two vessels with parameters shown below."
   ]
  },
  {
   "cell_type": "code",
   "execution_count": 2,
   "metadata": {},
   "outputs": [
    {
     "name": "stdout",
     "output_type": "stream",
     "text": [
      "Vessel:\n",
      "   pos:\t\t\t0.000,0.000\n",
      "   speed:\t\t\t5.000\n",
      "   heading:\t\t\t90.000\n",
      "   V:\t\t\t5.000,0.000\n",
      "\n",
      "Vessel:\n",
      "   pos:\t\t\t10.000,0.000\n",
      "   speed:\t\t\t10.000\n",
      "   heading:\t\t\t335.000\n",
      "   V:\t\t\t-4.226,9.063\n",
      "\n"
     ]
    }
   ],
   "source": [
    "v1 = Vessel.vessel(length=5,\n",
    "                  x = 0,\n",
    "                  y = 0,\n",
    "                  speed = 5,\n",
    "                  heading = 90)\n",
    "\n",
    "v2 = Vessel.vessel(length=5,\n",
    "                  x = 10,\n",
    "                  y = 0,\n",
    "                  speed = 10,\n",
    "                  heading = 335)\n",
    "\n",
    "v1.print()\n",
    "v2.print()"
   ]
  },
  {
   "cell_type": "markdown",
   "metadata": {},
   "source": [
    "Now we can calculate the CPA of vessel 2 relative to vessel 1 like this:"
   ]
  },
  {
   "cell_type": "code",
   "execution_count": 3,
   "metadata": {},
   "outputs": [],
   "source": [
    "(tcpa,Vesselcpa,OScpa,Rcpa,Bcpa) = v1.cpa(v2)"
   ]
  },
  {
   "cell_type": "code",
   "execution_count": 4,
   "metadata": {},
   "outputs": [
    {
     "name": "stdout",
     "output_type": "stream",
     "text": [
      "Time to CPA: 0.552\n",
      "Location of Vessel at CPA: 7.669, 4.999\n",
      "Location of Own Ship at CPA (v1): 2.758, 0.000\n",
      "Range at CPA: 7.008\n",
      "Bearing of Vessel 2 from Own Ship at CPA: 44.489\n"
     ]
    }
   ],
   "source": [
    "print(\"Time to CPA: %0.3f\" % tcpa)\n",
    "print(\"Location of Vessel at CPA: %0.3f, %0.3f\" % (Vesselcpa[0],Vesselcpa[1]))\n",
    "print(\"Location of Own Ship at CPA (v1): %0.3f, %0.3f\" % (OScpa[0],OScpa[1]))\n",
    "print(\"Range at CPA: %0.3f\" % Rcpa)\n",
    "print(\"Bearing of Vessel 2 from Own Ship at CPA: %0.3f\" % Bcpa)"
   ]
  },
  {
   "cell_type": "markdown",
   "metadata": {},
   "source": [
    "We can also plot the two vessel's locations now, and their locations at CPA with a vector from Own Ship to the other vessel at CPA indicating the range and bearing. \n",
    "\n",
    "This is a work in progress. The scaling of these plots is not right."
   ]
  },
  {
   "cell_type": "code",
   "execution_count": 5,
   "metadata": {},
   "outputs": [
    {
     "data": {
      "image/png": "[encoded data removed]",
      "text/plain": [
       "<Figure size 864x432 with 2 Axes>"
      ]
     },
     "metadata": {
      "needs_background": "light"
     },
     "output_type": "display_data"
    }
   ],
   "source": [
    "plt.show(v1.plotcpa(v2))"
   ]
  },
  {
   "cell_type": "code",
   "execution_count": null,
   "metadata": {},
   "outputs": [],
   "source": []
  },
  {
   "cell_type": "code",
   "execution_count": null,
   "metadata": {},
   "outputs": [],
   "source": []
  }
 ],
 "metadata": {
  "hide_input": false,
  "kernelspec": {
   "display_name": "Python 3",
   "language": "python",
   "name": "python3"
  },
  "language_info": {
   "codemirror_mode": {
    "name": "ipython",
    "version": 3
   },
   "file_extension": ".py",
   "mimetype": "text/x-python",
   "name": "python",
   "nbconvert_exporter": "python",
   "pygments_lexer": "ipython3",
   "version": "3.8.3"
  },
  "toc": {
   "nav_menu": {},
   "number_sections": true,
   "sideBar": true,
   "skip_h1_title": true,
   "title_cell": "Table of Contents",
   "title_sidebar": "Contents",
   "toc_cell": false,
   "toc_position": {},
   "toc_section_display": true,
   "toc_window_display": false
  },
  "varInspector": {
   "cols": {
    "lenName": 16,
    "lenType": 16,
    "lenVar": 40
   },
   "kernels_config": {
    "python": {
     "delete_cmd_postfix": "",
     "delete_cmd_prefix": "del ",
     "library": "var_list.py",
     "varRefreshCmd": "print(var_dic_list())"
    },
    "r": {
     "delete_cmd_postfix": ") ",
     "delete_cmd_prefix": "rm(",
     "library": "var_list.r",
     "varRefreshCmd": "cat(var_dic_list()) "
    }
   },
   "types_to_exclude": [
    "module",
    "function",
    "builtin_function_or_method",
    "instance",
    "_Feature"
   ],
   "window_display": false
  }
 },
 "nbformat": 4,
 "nbformat_minor": 4
}
