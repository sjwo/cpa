{
 "cells": [
  {
   "cell_type": "markdown",
   "metadata": {},
   "source": [
    "# Modeling Risk Given CPA\n",
    "\n",
    "In this exercise, I want to try to model the risk of collision of two vessels given their size, speed and CPA. "
   ]
  },
  {
   "cell_type": "code",
   "execution_count": 1,
   "metadata": {},
   "outputs": [],
   "source": [
    "%matplotlib widget\n",
    "import numpy as np\n",
    "import matplotlib.pyplot as plt\n"
   ]
  },
  {
   "cell_type": "code",
   "execution_count": 2,
   "metadata": {},
   "outputs": [],
   "source": [
    "class vessel(object):\n",
    "    def __init__(self,length,x,y,speed,heading):\n",
    "        self.length = length\n",
    "        self.pos = np.array([x,y])\n",
    "        self.speed = speed\n",
    "        self.heading = heading\n",
    "        self.V = np.array([speed * np.sin(np.deg2rad(heading)),\n",
    "                           speed*np.cos(np.deg2rad(heading))])\n",
    "    \n",
    "    def print(self):\n",
    "        print(\"Vessel:\")\n",
    "        print(\"   pos:\\t\\t\\t%0.3f,%0.3f\" % (self.pos[0],self.pos[1]))\n",
    "        print(\"   speed:\\t\\t\\t%0.3f\" % self.speed)\n",
    "        print(\"   heading:\\t\\t\\t%0.3f\" % self.heading)\n",
    "        print(\"   V:\\t\\t\\t%0.3f,%0.3f\" % (self.V[0],self.V[1]))\n",
    "        print(\"\")\n",
    "              \n",
    "    \n",
    "    def cpa(self,vessel):\n",
    "        '''\n",
    "        Calculates the Closest Point of Approach (CPA) Between Two Vessels\n",
    "        \n",
    "        Parameters:\n",
    "        ----------\n",
    "        \n",
    "        vessel: A vessel object of this type.\n",
    "        \n",
    "        Results:\n",
    "        --------\n",
    "        tcpa:    Time to CPA, negative indicates CPA has past.\n",
    "        Vesselcpa: Coordinates of the other vessel at CPA\n",
    "        Rcpa:    Range to the other vessel at CPA\n",
    "        Bcpa:    Bearing to the other vessel at CPA\n",
    "        \n",
    "        Notes on the calculation:\n",
    "        \n",
    "        The progression of ownship and the vessel \n",
    "        are parameterized in time as follows:\n",
    "        \n",
    "        Xos(t) = Xo + Vx * t\n",
    "        Yos(t) = Yo + Vy * t\n",
    "        Xv(t) = Xvo + Vxt * t\n",
    "        Yv(t) = Yvo + Vyt * t\n",
    "        \n",
    "        The the Range between the two vessels as a function\n",
    "        of time is written as follows:\n",
    "        \n",
    "        R = sqrt( (Xv(t) - Xos(t))^2 + (Yv(t) - Yos(t))^2)\n",
    "        \n",
    "        The expressions above are substituted into R.\n",
    "        \n",
    "        R = sqrt( ((Xvo + Vxt * t) - (Xo + Vx * t))^2 +\n",
    "                  ((Yvo + Vyt * t) - (Yo + Vy * t))^2)\n",
    "                  \n",
    "        Rearranging...\n",
    "        \n",
    "        R = sqrt( ((Xvo-Xo) + (Vxt-Vx)*t)^2 + \n",
    "                  ((Yvo-Yo) + (Vyt-Vy)*t)^2)\n",
    "                  \n",
    "        The CPA occurs when R is a minimum, so we take the\n",
    "        first derivative wrt time, and set this to 0, and then solve\n",
    "        for the time at which this occurs. \n",
    "        \n",
    "        dR/dt = [2 * (Vxt-Vx) * ((Xvo-Xo) + (Vxt-Vx)*t) + 2 * (Vyt-Vy) * ((Yvo-Yo) + (Vyt-Vy)*t)] / R\n",
    "        \n",
    "        dR/dt equals 0 where numerator is 0, so we can drop R, and the 2 common to both terms. \n",
    "        Defining the vector, D, as the position of the vessel relative to ownship:\n",
    "        D = (Xvo-Xo), (Vyt-Vy)\n",
    "        and defining the vector, Vr, as the velocity of the vessel relative to ownship:\n",
    "        Vr = (Vxt-Vx), (Vyt-Vy)\n",
    "        then the time to cpa is given by:\n",
    "        tcpa = -np.dot(Vr,D) / (Vr[0]**2 + Vr[1]**2)\n",
    "        \n",
    "        From this the position of the vessel and own ship can be calculated\n",
    "        from the equations above, as well as the range and bearing \n",
    "        at which CPA will occur. \n",
    "        \n",
    "        '''\n",
    "        \n",
    "        # Relative velocity vector:\n",
    "        Vr = vessel.V - self.V\n",
    "        # Relative position vector.\n",
    "        D = vessel.pos - self.pos\n",
    "        #print(\"Vr: %0.3f,%0.3f\" % (Vr[0],Vr[1]))\n",
    "        #print(\"R: %0.3f,%0.3f\" % (R[0],R[1]))\n",
    "\n",
    "        tcpa = -np.dot(Vr,D) / (Vr[0]**2 + Vr[1]**2)\n",
    "        Vesselcpa = np.array([vessel.pos[0] + vessel.V[0] * tcpa,\n",
    "                        vessel.pos[1] + vessel.V[1]*tcpa])\n",
    "        OScpa = np.array([self.pos[0] + self.V[0] * tcpa,\n",
    "                         self.pos[0] + self.V[1] * tcpa])\n",
    "        CPA = Vesselcpa-OScpa\n",
    "        Rcpa = np.linalg.norm(CPA)\n",
    "        #Bcpa = np.arctan2(CPA[1],CPA[0]) * 180/np.pi - 90.\n",
    "        Bcpa = self.bearingfromdxdy(CPA[0],CPA[1])\n",
    "\n",
    "\n",
    "        return (tcpa,Vesselcpa,OScpa,Rcpa,Bcpa)\n",
    "    \n",
    "    def bearingfromdxdy(self,dx,dy):\n",
    "        bearing = (np.arctan2( dx, dy) * 180/np.pi + 360) % 360\n",
    "        return bearing\n",
    "    \n",
    "    def plotcpa(self,vessel,figure=None):\n",
    "        \n",
    "        (tcpa,Vesselcpa,OScpa,Rcpa,Bcpa) = self.cpa(vessel)\n",
    "        \n",
    "        if figure is None:\n",
    "            F = plt.figure(figsize=(6,6))\n",
    "        else:\n",
    "            F = plt.figure(figure.number)\n",
    "        plt.quiver(self.pos[0],self.pos[1],self.V[0],self.V[1],\n",
    "                  angles='uv', scale_units='xy', scale=10,color = 'k')\n",
    "        plt.quiver(vessel.pos[0],vessel.pos[1],vessel.V[0],vessel.V[1],\n",
    "                  angles='uv', scale_units='xy', scale=10,color = 'b')\n",
    "        plt.quiver(Vesselcpa[0],Vesselcpa[1],vessel.V[0],vessel.V[1],\n",
    "                          angles='uv', scale_units='xy', scale=10, color = 'm')\n",
    "        plt.quiver(OScpa[0],OScpa[1],self.V[0],self.V[1],\n",
    "                          angles='uv', scale_units='xy', scale=10, color='r')\n",
    "        plt.quiver(OScpa[0],OScpa[1],Vesselcpa[0]-OScpa[0],Vesselcpa[1]-OScpa[1],\n",
    "                  angles='uv',scale_units='xy', scale=1,color='k',alpha=.1)\n",
    "        plt.text(Vesselcpa[0],Vesselcpa[1],'CPA: Range:%0.2f\\n        Bearing:%0.2f' % (Rcpa,Bcpa))\n",
    "        plt.grid(True)\n",
    "        return F\n",
    "            \n",
    "    def riskofcollision(vessel):\n",
    "        '''Calculate the Risk of Collision\n",
    "        \n",
    "        How might we do this? \n",
    "        We can calculate the CPA to the vessel.\n",
    "        Then calculate the '''\n",
    "\n",
    "    def courses_to_collide(self,vessel,N=10,minSpeed=2.,maxSpeed=25):\n",
    "        '''Calculate N speeds and headings for vessel that will ensure a collision.\n",
    "        \n",
    "        Parameters:\n",
    "        ----------\n",
    "        vessel:  Vessel object for whom speeds and headings are calculated.\n",
    "        N:   Number of solutions sought.\n",
    "        minSpeed:   Minimum speed considered.\n",
    "        maxSpeed:   Maximum speed consdiered.\n",
    "        \n",
    "        '''\n",
    "        D = vessel.pos - self.pos\n",
    "\n",
    "        # Confine a to values between 2 and 25 knots.\n",
    "        Dnorm = np.linalg.norm(D)\n",
    "        N = 10.\n",
    "        max_a = maxSpeed/Dnorm\n",
    "        min_a = minSpeed/Dnorm\n",
    "        a = np.arange(min_a,max_a,(max_a-min_a)/N)\n",
    "\n",
    "\n",
    "        Vt = [-D * x + v1.V for x in a]\n",
    "        Speeds = np.array([np.linalg.norm(x) for x in Vt])\n",
    "        Headings = np.array([v1.bearingfromdxdy(x[0],x[1]) for x in Vt])\n",
    "        return (Speeds, Headings)"
   ]
  },
  {
   "cell_type": "code",
   "execution_count": 3,
   "metadata": {},
   "outputs": [
    {
     "name": "stdout",
     "output_type": "stream",
     "text": [
      "Vessel:\n",
      "   pos:\t\t\t0.000,0.000\n",
      "   speed:\t\t\t5.000\n",
      "   heading:\t\t\t90.000\n",
      "   V:\t\t\t5.000,0.000\n",
      "\n",
      "Vessel:\n",
      "   pos:\t\t\t10.000,10.000\n",
      "   speed:\t\t\t5.000\n",
      "   heading:\t\t\t270.000\n",
      "   V:\t\t\t-5.000,-0.000\n",
      "\n"
     ]
    },
    {
     "data": {
      "application/vnd.jupyter.widget-view+json": {
       "model_id": "7882be4048ef4a2582cf64ccb3c6825f",
       "version_major": 2,
       "version_minor": 0
      },
      "text/plain": [
       "Canvas(toolbar=Toolbar(toolitems=[('Home', 'Reset original view', 'home', 'home'), ('Back', 'Back to previous …"
      ]
     },
     "metadata": {},
     "output_type": "display_data"
    },
    {
     "data": {
      "image/png": "[encoded data removed]",
      "text/plain": [
       "<Figure size 600x600 with 1 Axes>"
      ]
     },
     "execution_count": 3,
     "metadata": {},
     "output_type": "execute_result"
    }
   ],
   "source": [
    "v1 = vessel(10,0,0,5,90)\n",
    "v2 = vessel(10,10,10,5,270)\n",
    "v1.print()\n",
    "v2.print()\n",
    "(tcpa,Vesselcpa,OScpa,Rcpa,Bcpa) = v1.cpa(v2)\n",
    "v1.plotcpa(v2)"
   ]
  },
  {
   "cell_type": "markdown",
   "metadata": {},
   "source": [
    "Ok, now we have a vessel class and the ability to calcualte CPA between two vessels. \n",
    "\n",
    "So now we turn our consideration to how to estimate the risk of collision. It is not immediatley clear how to do this so let us experiment with some ideas. \n",
    "\n",
    "First lets consider a vessel at some range, heading and speed. We can calculate it's CPA and, if our estimates about it's current state are true and remain unchanged, as long as the CPA is larger than the combined dimentions of our ships we won't collide. This is a pretty weak criterion, but mathimatically it is true. But the purpose of calculating a CPA is really asking the question, what happens if 1) my assumptions about the vessel's current range, heading and speed are incorrect and/or 2) my assumption that he will continue on that path is incorrect. Assuming my current CPA calcualtion is non-zero, it requires one of these assumptions to be incorrect for a collision to actually occur. (Technically it is also true that my estimate of my own position, heading and speed could be incorrect, but we will assume they are not for now.)\n",
    "\n",
    "So lets consider the case in which our estimate of the vessel's position, heading and speed are incorrect. What we'd like to do is solve for the conditions in which the CPA is zero. When the CPA is zero, the relative velocity vector, `Vr`, points directly from the vessel toward ownship. If `D`, is the vector from ownship to the vessel, then `Vr` must point in the opposition direction of `D`, `-D`. There is no constraint on the magnitude of the relative velocity vector, only on its directon. The one can write `Vr` as \n",
    "\n",
    "`Vr = -D a`\n",
    "\n",
    "where `a` is a positive scalar value. The vessel speed, `Vt` is given in terms of the relative velocity vector and ownship vector as \n",
    "\n",
    "`Vt = Vr + Vos`\n",
    "\n",
    "or\n",
    "\n",
    "`Vt = -D a + Vos`\n",
    "\n",
    "Remember, `a` is a scalar value here, all others are vectors. Lets look at how Vt varies as we vary a. Since there are an infinite number of solutions, we'll only consider those for which the maximum speed is 25 knots, under the assumption that it's unlikely for most vessels to go faster. "
   ]
  },
  {
   "cell_type": "code",
   "execution_count": 4,
   "metadata": {},
   "outputs": [
    {
     "data": {
      "application/vnd.jupyter.widget-view+json": {
       "model_id": "ea571ff4ae0f4aa8989b331d41104b62",
       "version_major": 2,
       "version_minor": 0
      },
      "text/plain": [
       "Canvas(toolbar=Toolbar(toolitems=[('Home', 'Reset original view', 'home', 'home'), ('Back', 'Back to previous …"
      ]
     },
     "metadata": {},
     "output_type": "display_data"
    },
    {
     "data": {
      "application/vnd.jupyter.widget-view+json": {
       "model_id": "8e5313fe0b584b1ab22f60c815c1f8f6",
       "version_major": 2,
       "version_minor": 0
      },
      "text/plain": [
       "Canvas(toolbar=Toolbar(toolitems=[('Home', 'Reset original view', 'home', 'home'), ('Back', 'Back to previous …"
      ]
     },
     "metadata": {},
     "output_type": "display_data"
    }
   ],
   "source": [
    "v1 = vessel(10,0,0,5,90)\n",
    "v2 = vessel(10,10,10,5,270)\n",
    "trueHeading = v2.bearingfromdxdy(v2.V[0],v2.V[1])\n",
    "trueSpeed = np.linalg.norm(v2.V)\n",
    "D = v2.pos - v1.pos\n",
    "\n",
    "# Confine a to values between 2 and 25 knots.\n",
    "Dnorm = np.linalg.norm(D)\n",
    "minSpeed = 2.\n",
    "maxSpeed = 25.\n",
    "Nsteps = 10.\n",
    "max_a = maxSpeed/Dnorm\n",
    "min_a = minSpeed/Dnorm\n",
    "a = np.arange(min_a,max_a,(max_a-min_a)/Nsteps)\n",
    "\n",
    "\n",
    "Vt = [-D * x + v1.V for x in a]\n",
    "Speeds = np.array([np.linalg.norm(x) for x in Vt])\n",
    "Heading = np.array([v1.bearingfromdxdy(x[0],x[1]) for x in Vt])\n",
    "plt.figure()\n",
    "plt.subplot(411)\n",
    "plt.plot(a,Speeds,'.')\n",
    "plt.grid(True)\n",
    "plt.ylabel('Speed')\n",
    "plt.subplot(412)\n",
    "plt.plot(a,Heading,'.')\n",
    "plt.grid(True)\n",
    "plt.ylabel('Heading')\n",
    "plt.subplot(413)\n",
    "plt.plot(a,Heading - trueHeading,'.')\n",
    "plt.grid(True)\n",
    "plt.ylabel('Heading Error')\n",
    "plt.subplot(414)\n",
    "plt.plot(a,Speeds - trueSpeed,'.')\n",
    "plt.grid(True)\n",
    "plt.ylabel('Speed Error')\n",
    "\n",
    "\n",
    "vs = []\n",
    "\n",
    "vessel(10,10,10,5,270)\n",
    "z = 0\n",
    "for s,h in zip(Speeds,Heading):\n",
    "    v = vessel(10,10,10,s,h)\n",
    "    if z == 0:\n",
    "        Fig = v1.plotcpa(v)\n",
    "    else:\n",
    "        Fig = v1.plotcpa(v,figure=Fig)\n",
    "    z+=1\n",
    "    "
   ]
  },
  {
   "cell_type": "markdown",
   "metadata": {},
   "source": [
    "Here we've plotted curves that describe how our current estimate of the heading and velocity of the vessel would have to be in error to give us a zero CPA and result in a collision. For this example, the heading error would have to be huge, off by more than 60 degrees. And while the speed error could be quite small to get zero CPA for speed estimates error less than 3 knots, the heading would have to be off by more than 75 degrees.  \n",
    "\n",
    "Since it seems unlikely that our estimate of the heading and speed of the vessel are both simultaneously in error by this much, we could say the risk of collision is quite small. If we knew the uncertainty in our estimates of those values, we could calculate the probably of collision by calculating the probability that our speed and heading estimates are off by the required amount. \n",
    "\n",
    "Assume for the moment that our heading estimate has an error of sigmaH = 30 degrees, and our speed estimate has an error of sigmaS = 3 knots, and they are Normally distributed. Then we could calculate the probablity that the both are in error by the amount required for each combination of heading and speed required to collide.  "
   ]
  },
  {
   "cell_type": "code",
   "execution_count": 122,
   "metadata": {},
   "outputs": [
    {
     "data": {
      "text/plain": [
       "Text(0, 0.5, 'Risk')"
      ]
     },
     "execution_count": 122,
     "metadata": {},
     "output_type": "execute_result"
    }
   ],
   "source": [
    "import scipy.stats\n",
    "\n",
    "sigmaH = 30\n",
    "sigmaS = 3\n",
    "HeadingD = scipy.stats.norm(trueHeading,sigmaH)\n",
    "SpeedD = scipy.stats.norm(trueSpeed,sigmaS)\n",
    "\n",
    "# Not clear which might be more correct.\n",
    "#HeadingProb = HeadingD.cdf(Heading+5 - trueHeading) - HeadingD.cdf(Heading-5 - trueHeading)\n",
    "#SpeedProb = SpeedD.cdf(Speeds+2 - trueSpeed) - SpeedD.cdf(Speeds-2 - trueSpeed)\n",
    "HeadingProb = HeadingD.pdf(Heading - trueHeading)\n",
    "SpeedProb = SpeedD.pdf(Speeds - trueSpeed) \n",
    "\n",
    "\n",
    "# Under the assumption the heading and speed estimates\n",
    "# are uncorrelated, independent random variables (they are not)\n",
    "# These are multiplied because the vessel cannot just chaange\n",
    "# heading. It must also change speed to collide. \n",
    "Risk = HeadingProb * SpeedProb\n",
    "plt.figure()\n",
    "plt.plot(a,Risk,'.')\n",
    "plt.grid(True)\n",
    "plt.ylabel('Risk')"
   ]
  },
  {
   "cell_type": "markdown",
   "metadata": {},
   "source": [
    "In this case, there is nearly zero risk of collision resulting from an error in our estimates of speed and heading. \n",
    "\n",
    "REVISIT THIS CALCULATION: Seems like maybe I should calculate the probability of getting a particular value as the integral under the pdf over a small band centered on the value. Did this with the CDF's. Still not sure...\n",
    "\n",
    "The risk calculation thus far is based on the probablity that our model of the vessel is incorrect at this instant. But we have not yet consdiered the risk associated with the vessel's course and/or speed changing in the future. The only way we can collide with this vessel is if our model at this instant is incorrect such that the CPA is actually 0, or if the model changes reducing the CPA to zero in the future. \n",
    "\n",
    "At first it seems reasonable that we need only need to consider what might happen between now CPA, as it is during this approach that a change in the vessel's heading is likely to close CPA to zero. It seems that a change in heading and speed after this point would require a huge course change, > 90 degrees, and that this change would be exceedingly unlikely. But after thiking about it more one can consider a the situation in which ownship is overtaking another vessel. In that case, even after CPA, if the vessel simply slows a collision could be immanent. So we need to consider this risk for a period longer than just through CPA. Exactly how long is unclear as yet. \n",
    "\n",
    "For whatever duration into the future we wisht to consider, we could imagine that at some point the vessel's course and speed might change to create zero CPA. If the vessel makes no change in course and speed, we know the path it will take relative to ownship, closing until CPA is reached and then opening again. We can then step along this path at some regular interval and evaluate an ensemble of changes in speed and heading to create zero CPA at each step. We then have to calculate what the probabilty might be that the vessel would actuallly make that speed and heading change. \n",
    "\n",
    "The probability that the vessel would make a speed and heading change to create a zero CPA situation is going to depend on the intent of the vessel's pilot and to some extent the capabilty of the vessel. A pilot might change course to avoid another vessel or a shoal or some navigation objective, and inadvertently create a zero CPA situation.  While maybe not quite impossible, it seems that it will likely be very difficult to assess the intent of another vessel to assess the risk of collision. There might be some notable and interesting exceptions, however, that include vessels in an traffic separation scheme, navigating on a range, or constrained by their draft to maneuver. In these cases, there is likely some choices of heading and speed that are so undesirable as to be unlikely to be chosen by the pilot. Thus the risk of colliding with a vessel who is maintaining a course to match a navigation range, for example, is quite small, as they are unlikely to change course to intercept you. For now, let us leave this consideration to future work. \n",
    "\n",
    "It is also true that some changes in heading and speed are unlikely, simply because of the physics of the maneuver. Large ships, having a large angular moment of inertia, simply do not turn fast. The same is generally true of small boats transiting at speed. Thus we can put some limits on the size of the heading change that is likely to occur. \n",
    "\n",
    "How then do we assess the probabiliy of a maneuver that is not constrained by the environment, size of the vessel, or its current heading and speed? Are small course and speed changes more likely than large ones, all else being equal? Certainly, vessels transitting and not otherwise constained rarely make heading changes that exceed 60 degrees, as it would be inefficinet to do so. This assumption may not hold true for fishing vessels whose intent may be more erratic. But as a place to start lets stick with this assumption. \n",
    "\n",
    "What I want to do is create a probabilty distrubtion function that describes the likelyhood of a heading change from the current heading, given the capability of the vessel and the size of the change. So we need pdfs for each. \n",
    "\n",
    "Lets assume the probability of a change in heading as a function of vessel size is Normally distrubuted with mean equal to the current heading and standard deviation equal to the this expression, which is just an empirical guess. Here I'm giving the sigma value a minimum of 10 degrees and adding a penalty that scales inversely with the product of the vessels's speed and length. \n"
   ]
  },
  {
   "cell_type": "code",
   "execution_count": 133,
   "metadata": {},
   "outputs": [],
   "source": [
    "\n",
    "sigma = lambda s,l : 10 + 90/(s*l*.05)\n",
    "\n",
    "\n",
    "speeds = np.arange(1,20,1)\n",
    "lengths = np.arange(10,100,10)\n",
    "plt.figure()\n",
    "\n",
    "for length in lengths:\n",
    "    plt.plot(speeds,sigma(speeds,length))\n",
    "    plt.xlabel('speed, kts')\n",
    "    plt.ylabel('1-sigma heading change probability')\n",
    "    plt.title('1-sigma heading change probability for various vessel sizes and speeds.')\n",
    "    plt.grid(True)\n",
    "    plt.text(1,sigma(speeds,length)[0],\"%sm\" % length)"
   ]
  },
  {
   "cell_type": "markdown",
   "metadata": {},
   "source": [
    "Lets create a lambda function that will return the probability of a turn using this model. \n",
    "\n",
    "Then we can revist the meeting of two vessels - this time lets separate them by 1000 m in x and y - one going east and the other going west. We'll consider v1 our ownship, and v2 the contact vessel as before. Then we can calculate CPA for the encounter. Next we can create two model vessels and step their position in time in 1 second increments until 2*CPA, and at each step we can calculate 10 combinations of heading and speed, allowing speed to vary from 2-25 knots, that will collide with our ship if they were taken from that point. Finally we can score the likelihood that the vessel makes this course change using the model we just defined. For the moment, we are neglecting the assigning any probabilty to a change in speed - we allow anything there."
   ]
  },
  {
   "cell_type": "code",
   "execution_count": 160,
   "metadata": {},
   "outputs": [],
   "source": [
    "\n",
    "P_H_vessel = lambda v, H: scipy.stats.norm(v.heading,sigma(v.speed,v.length)).pdf(H)\n",
    "\n",
    "\n",
    "v1 = vessel(10,0,0,5,90)\n",
    "v2 = vessel(10,1000,1000,5,270)\n",
    "hh = np.arange(210,330)\n",
    "plt.figure()\n",
    "plt.plot(hh,P_H_vessel(v2,hh),'.')\n",
    "plt.grid(True)\n",
    "sigma(v2.speed,v2.length)\n",
    "\n",
    "(tcpa,Vesselcpa,OScpa,Rcpa,Bcpa) = v1.cpa(v2)\n",
    "tt = np.arange(tcpa*2)\n",
    "v1model = vessel(10,0,0,5,90)\n",
    "v2model = vessel(10,1000,1000,5,270)\n",
    "plt.figure()\n",
    "fig,axs = plt.subplots(2,1)\n",
    "for ti in tt:\n",
    "    # Move our vessels along in time.\n",
    "    v1model.pos = v1.pos + v1.V * ti\n",
    "    v2model.pos = v2.pos + v2.V * ti\n",
    "    (Cspeeds,Cheadings) = v1model.courses_to_collide(v2model,N=10,minSpeed=2.,maxSpeed=25)\n",
    "    prob_of_Heading = P_H_vessel(v2model,Cheadings)\n",
    "    plt.sca(axs[0])\n",
    "    plt.plot(np.ones((10))*ti,prob_of_Heading,'.')\n",
    "    plt.sca(axs[1])\n",
    "    plt.plot(np.ones((10))*ti,Cheadings-v2.heading,'.')"
   ]
  },
  {
   "cell_type": "markdown",
   "metadata": {},
   "source": [
    "It is not clear that this result totally makes sense. The horizontal axis is the time step from the current time. The vertical axis is the probability that the vessel would make a heading change. And for each time step, the probability of making each of the 10 proposed heading changes that would result in a collision if taken is plotted. CPA occurs at 100 seconds. The sigma-value for our heading change probability function is 46 degrees. "
   ]
  },
  {
   "cell_type": "code",
   "execution_count": 152,
   "metadata": {},
   "outputs": [
    {
     "data": {
      "text/plain": [
       "46.0"
      ]
     },
     "execution_count": 152,
     "metadata": {},
     "output_type": "execute_result"
    }
   ],
   "source": [
    "sigma(v2.speed,v2.length)"
   ]
  },
  {
   "cell_type": "code",
   "execution_count": 153,
   "metadata": {},
   "outputs": [
    {
     "data": {
      "text/plain": [
       "999.9999999999999"
      ]
     },
     "execution_count": 153,
     "metadata": {},
     "output_type": "execute_result"
    }
   ],
   "source": [
    "Rcpa"
   ]
  },
  {
   "cell_type": "code",
   "execution_count": null,
   "metadata": {},
   "outputs": [],
   "source": []
  }
 ],
 "metadata": {
  "hide_input": false,
  "kernelspec": {
   "display_name": "Python 3",
   "language": "python",
   "name": "python3"
  },
  "language_info": {
   "codemirror_mode": {
    "name": "ipython",
    "version": 3
   },
   "file_extension": ".py",
   "mimetype": "text/x-python",
   "name": "python",
   "nbconvert_exporter": "python",
   "pygments_lexer": "ipython3",
   "version": "3.8.3"
  },
  "toc": {
   "nav_menu": {},
   "number_sections": true,
   "sideBar": true,
   "skip_h1_title": true,
   "title_cell": "Table of Contents",
   "title_sidebar": "Contents",
   "toc_cell": false,
   "toc_position": {},
   "toc_section_display": true,
   "toc_window_display": false
  },
  "varInspector": {
   "cols": {
    "lenName": 16,
    "lenType": 16,
    "lenVar": 40
   },
   "kernels_config": {
    "python": {
     "delete_cmd_postfix": "",
     "delete_cmd_prefix": "del ",
     "library": "var_list.py",
     "varRefreshCmd": "print(var_dic_list())"
    },
    "r": {
     "delete_cmd_postfix": ") ",
     "delete_cmd_prefix": "rm(",
     "library": "var_list.r",
     "varRefreshCmd": "cat(var_dic_list()) "
    }
   },
   "types_to_exclude": [
    "module",
    "function",
    "builtin_function_or_method",
    "instance",
    "_Feature"
   ],
   "window_display": false
  }
 },
 "nbformat": 4,
 "nbformat_minor": 4
}
